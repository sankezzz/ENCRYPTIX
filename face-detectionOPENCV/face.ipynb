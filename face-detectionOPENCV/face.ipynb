{
 "cells": [
  {
   "cell_type": "code",
   "execution_count": 1,
   "metadata": {},
   "outputs": [],
   "source": [
    "import cv2  "
   ]
  },
  {
   "cell_type": "markdown",
   "metadata": {},
   "source": [
    "Done by : Sanket Suryawanshi     \n",
    "For : Encryptix Internship task"
   ]
  },
  {
   "cell_type": "markdown",
   "metadata": {},
   "source": [
    "Here we are using open cv to access camera as well as its in buit cascade feature to recognise faces"
   ]
  },
  {
   "cell_type": "code",
   "execution_count": 3,
   "metadata": {},
   "outputs": [],
   "source": [
    "face_cap=cv2.CascadeClassifier('C:/Users/sanke/AppData/Local/Programs/Python/Python312/Lib/site-packages/cv2/data/haarcascade_frontalface_default.xml')\n",
    "\n",
    "video_cap=cv2.VideoCapture(0)\n",
    "\n",
    "#key press disable\n",
    "while True:\n",
    "  ret,video_data=video_cap.read()\n",
    "  col=cv2.cvtColor(video_data,cv2.COLOR_BGR2GRAY)\n",
    "  faces=face_cap.detectMultiScale(\n",
    "    col,scaleFactor=1.1,minNeighbors=5,minSize=(30,30),flags=cv2.CASCADE_SCALE_IMAGE\n",
    "\n",
    "\n",
    "  )\n",
    "  for (x,y,w,h) in faces:\n",
    "    cv2.rectangle(video_data,(x,y),(x+w,y+h),(0,255,0),2)\n",
    "\n",
    "  cv2.imshow('video_live',video_data)\n",
    "  if cv2.waitKey(10)==ord('q'):\n",
    "    break\n",
    "video_cap.release()\n",
    "cv2.destroyAllWindows()"
   ]
  },
  {
   "cell_type": "markdown",
   "metadata": {},
   "source": []
  },
  {
   "cell_type": "markdown",
   "metadata": {},
   "source": []
  },
  {
   "cell_type": "code",
   "execution_count": null,
   "metadata": {},
   "outputs": [],
   "source": []
  }
 ],
 "metadata": {
  "kernelspec": {
   "display_name": "Python 3",
   "language": "python",
   "name": "python3"
  },
  "language_info": {
   "codemirror_mode": {
    "name": "ipython",
    "version": 3
   },
   "file_extension": ".py",
   "mimetype": "text/x-python",
   "name": "python",
   "nbconvert_exporter": "python",
   "pygments_lexer": "ipython3",
   "version": "3.12.2"
  }
 },
 "nbformat": 4,
 "nbformat_minor": 2
}
